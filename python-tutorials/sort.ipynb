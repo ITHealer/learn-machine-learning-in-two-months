{
 "cells": [
  {
   "cell_type": "markdown",
   "metadata": {},
   "source": [
    "### Bubble Sort"
   ]
  },
  {
   "cell_type": "markdown",
   "metadata": {},
   "source": [
    "Ý tưởng rất đơn giản: \n",
    "    - Ta lặp qua từng phần tử một\n",
    "        - Tại một phần tử\n",
    "            - Ta lặp qua các phần tử còn lại\n",
    "                - Nếu phần tử nào trong các phần tử còn lại mà nhỏ hơn phần tử hiện tại thì thay thế phần tử hiện tại bằng phần tử nhỏ hơn đó"
   ]
  },
  {
   "cell_type": "code",
   "execution_count": 95,
   "metadata": {},
   "outputs": [],
   "source": [
    "numbers = [20, 10, 16, 6, 89]"
   ]
  },
  {
   "cell_type": "code",
   "execution_count": 99,
   "metadata": {},
   "outputs": [],
   "source": [
    "for i in range(0, len(numbers)):\n",
    "    for j in range(i+1, len(numbers)):\n",
    "        if numbers[j] < numbers[i]:\n",
    "            temp = numbers[j]\n",
    "            numbers[j] = numbers[i]\n",
    "            numbers[i] = temp\n",
    "            "
   ]
  },
  {
   "cell_type": "code",
   "execution_count": 100,
   "metadata": {
    "scrolled": true
   },
   "outputs": [
    {
     "data": {
      "text/plain": [
       "[6, 10, 16, 20, 89]"
      ]
     },
     "execution_count": 100,
     "metadata": {},
     "output_type": "execute_result"
    }
   ],
   "source": [
    "numbers"
   ]
  },
  {
   "cell_type": "markdown",
   "metadata": {},
   "source": [
    "Độ phức tạp: **O(N^2)**"
   ]
  },
  {
   "cell_type": "markdown",
   "metadata": {},
   "source": [
    "### Insertion Sort"
   ]
  },
  {
   "cell_type": "markdown",
   "metadata": {},
   "source": [
    "Ý tưởng:\n",
    "    - Ta lặp qua từng phần tử một:\n",
    "        - Tại một phần tử\n",
    "            - Ta lặp qua các phần tử ở trước phần tử này:\n",
    "                - Tìm vị trí mà phần tử này lớn hơn các phần tử bên trên và nhỏ hơn các phần tử bên phải\n",
    "                - Di chuyển tất cả các phần tử bên phải lên một bậc\n",
    "                - Đặt phần tử này vào vị trí đó (Đây chính là ý nghĩa Insertion(chèn))"
   ]
  },
  {
   "cell_type": "code",
   "execution_count": 124,
   "metadata": {},
   "outputs": [],
   "source": [
    "numbers = [100, 20, 10, 16, 6, 89]"
   ]
  },
  {
   "cell_type": "code",
   "execution_count": 125,
   "metadata": {},
   "outputs": [],
   "source": [
    "for i in range(1, len(numbers)):\n",
    "    j = i - 1\n",
    "    curr = numbers[i]\n",
    "    while j >= 0 and curr < numbers[j]:\n",
    "        numbers[j + 1] = numbers[j]\n",
    "        j -= 1\n",
    "    numbers[j+1] = curr"
   ]
  },
  {
   "cell_type": "code",
   "execution_count": 126,
   "metadata": {},
   "outputs": [
    {
     "data": {
      "text/plain": [
       "[6, 10, 16, 20, 89, 100]"
      ]
     },
     "execution_count": 126,
     "metadata": {},
     "output_type": "execute_result"
    }
   ],
   "source": [
    "numbers"
   ]
  },
  {
   "cell_type": "markdown",
   "metadata": {},
   "source": [
    "Độ phức tạp: **O(N^2)**"
   ]
  },
  {
   "cell_type": "markdown",
   "metadata": {},
   "source": [
    "### Merge Sort"
   ]
  },
  {
   "cell_type": "markdown",
   "metadata": {},
   "source": [
    "Merge sort sử dụng giải thuật **divide and conquer.**"
   ]
  },
  {
   "cell_type": "code",
   "execution_count": 85,
   "metadata": {},
   "outputs": [],
   "source": [
    "numbers = [20, 10, 16, 6, 89, 1, 5, 9, 100]"
   ]
  },
  {
   "cell_type": "code",
   "execution_count": 86,
   "metadata": {},
   "outputs": [],
   "source": [
    "# Divide\n",
    "def divide(numbers, start, end):\n",
    "    if start == end:\n",
    "        return [numbers[start]]\n",
    "    else:\n",
    "        middle = (start + end) // 2\n",
    "        left_numbers = divide(numbers, start, middle) \n",
    "        right_numbers = divide(numbers, middle+1, end)\n",
    "        return conquer(numbers, left_numbers, right_numbers)"
   ]
  },
  {
   "cell_type": "code",
   "execution_count": 87,
   "metadata": {},
   "outputs": [],
   "source": [
    "# Sort\n",
    "def conquer(numbers, left_numbers, right_numbers):\n",
    "    new_nums = []\n",
    "    i = 0\n",
    "    j = 0\n",
    "    while i < len(left_numbers) and j < len(right_numbers):\n",
    "        if left_numbers[i] < right_numbers[j]:\n",
    "            new_nums.append(left_numbers[i])\n",
    "            i += 1\n",
    "        else:\n",
    "            new_nums.append(right_numbers[j])\n",
    "            j += 1\n",
    "    if i < len(left_numbers):\n",
    "        new_nums += left_numbers[i:]\n",
    "        \n",
    "    if j < len(right_numbers):\n",
    "        new_nums += right_numbers[j:]\n",
    "    return new_nums"
   ]
  },
  {
   "cell_type": "code",
   "execution_count": 88,
   "metadata": {},
   "outputs": [
    {
     "data": {
      "text/plain": [
       "[1, 5, 6, 9, 10, 16, 20, 89, 100]"
      ]
     },
     "execution_count": 88,
     "metadata": {},
     "output_type": "execute_result"
    }
   ],
   "source": [
    "divide(numbers, 0, len(numbers)-1)"
   ]
  },
  {
   "cell_type": "markdown",
   "metadata": {},
   "source": [
    "Độ phức tạp: **O(Nlog(N))**"
   ]
  }
 ],
 "metadata": {
  "kernelspec": {
   "display_name": "Python 3",
   "language": "python",
   "name": "python3"
  },
  "language_info": {
   "codemirror_mode": {
    "name": "ipython",
    "version": 3
   },
   "file_extension": ".py",
   "mimetype": "text/x-python",
   "name": "python",
   "nbconvert_exporter": "python",
   "pygments_lexer": "ipython3",
   "version": "3.8.2"
  }
 },
 "nbformat": 4,
 "nbformat_minor": 4
}
