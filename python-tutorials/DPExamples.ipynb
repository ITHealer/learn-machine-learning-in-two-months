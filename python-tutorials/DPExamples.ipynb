{
 "cells": [
  {
   "cell_type": "markdown",
   "metadata": {},
   "source": [
    "## 1. Floyd Warshall"
   ]
  },
  {
   "cell_type": "markdown",
   "metadata": {},
   "source": [
    "![](images/DP/fm.png)"
   ]
  },
  {
   "cell_type": "markdown",
   "metadata": {},
   "source": [
    "Bài toán tìm độ dài ngắn nhất từ tất cả các đỉnh đến các đỉnh còn lại trong một đồ thị không có chu trình âm."
   ]
  },
  {
   "cell_type": "code",
   "execution_count": 39,
   "metadata": {},
   "outputs": [],
   "source": [
    "edges = [\n",
    "    [0, 1, 3],\n",
    "    [0, 3, 1],\n",
    "    [1, 2, 6],\n",
    "    [3, 2, 5],\n",
    "    [3, 4, -2],\n",
    "    [4, 5, 8],\n",
    "    [5, 3, 7]\n",
    "]"
   ]
  },
  {
   "cell_type": "code",
   "execution_count": 40,
   "metadata": {},
   "outputs": [],
   "source": [
    "V = 6"
   ]
  },
  {
   "cell_type": "code",
   "execution_count": 41,
   "metadata": {},
   "outputs": [],
   "source": [
    "inf = float('inf')"
   ]
  },
  {
   "cell_type": "code",
   "execution_count": 42,
   "metadata": {},
   "outputs": [],
   "source": [
    "dist = [[inf for _ in range(V)] for _ in range(V)]"
   ]
  },
  {
   "cell_type": "code",
   "execution_count": 43,
   "metadata": {},
   "outputs": [],
   "source": [
    "for i in range(V):\n",
    "    for j in range(V):\n",
    "        if i == j:\n",
    "            dist[i][j] = 0"
   ]
  },
  {
   "cell_type": "code",
   "execution_count": 44,
   "metadata": {},
   "outputs": [
    {
     "data": {
      "text/plain": [
       "[[0, inf, inf, inf, inf, inf],\n",
       " [inf, 0, inf, inf, inf, inf],\n",
       " [inf, inf, 0, inf, inf, inf],\n",
       " [inf, inf, inf, 0, inf, inf],\n",
       " [inf, inf, inf, inf, 0, inf],\n",
       " [inf, inf, inf, inf, inf, 0]]"
      ]
     },
     "execution_count": 44,
     "metadata": {},
     "output_type": "execute_result"
    }
   ],
   "source": [
    "dist"
   ]
  },
  {
   "cell_type": "code",
   "execution_count": 45,
   "metadata": {},
   "outputs": [],
   "source": [
    "for edge in edges:\n",
    "    u, v, w = edge\n",
    "    dist[u][v] = w"
   ]
  },
  {
   "cell_type": "code",
   "execution_count": 46,
   "metadata": {},
   "outputs": [
    {
     "data": {
      "text/plain": [
       "[[0, 3, inf, 1, inf, inf],\n",
       " [inf, 0, 6, inf, inf, inf],\n",
       " [inf, inf, 0, inf, inf, inf],\n",
       " [inf, inf, 5, 0, -2, inf],\n",
       " [inf, inf, inf, inf, 0, 8],\n",
       " [inf, inf, inf, 7, inf, 0]]"
      ]
     },
     "execution_count": 46,
     "metadata": {},
     "output_type": "execute_result"
    }
   ],
   "source": [
    "dist"
   ]
  },
  {
   "cell_type": "code",
   "execution_count": 47,
   "metadata": {},
   "outputs": [],
   "source": [
    "for i in range(V):\n",
    "    for j in range(V):\n",
    "        for k in range(V):\n",
    "            if dist[i][k] + dist[k][j] < dist[i][j]:\n",
    "                dist[i][j] = dist[i][k] + dist[k][j]"
   ]
  },
  {
   "cell_type": "code",
   "execution_count": 38,
   "metadata": {},
   "outputs": [
    {
     "data": {
      "text/plain": [
       "[[0, 3, 6, 1, -1, 7],\n",
       " [inf, 0, 6, inf, inf, inf],\n",
       " [inf, inf, 0, inf, inf, inf],\n",
       " [inf, inf, 5, 0, -2, 6],\n",
       " [inf, inf, 20, 15, 0, 8],\n",
       " [inf, inf, 12, 7, 5, 0]]"
      ]
     },
     "execution_count": 38,
     "metadata": {},
     "output_type": "execute_result"
    }
   ],
   "source": [
    "dist"
   ]
  }
 ],
 "metadata": {
  "kernelspec": {
   "display_name": "Python 3",
   "language": "python",
   "name": "python3"
  },
  "language_info": {
   "codemirror_mode": {
    "name": "ipython",
    "version": 3
   },
   "file_extension": ".py",
   "mimetype": "text/x-python",
   "name": "python",
   "nbconvert_exporter": "python",
   "pygments_lexer": "ipython3",
   "version": "3.8.2"
  }
 },
 "nbformat": 4,
 "nbformat_minor": 4
}
