{
 "cells": [
  {
   "cell_type": "markdown",
   "metadata": {},
   "source": [
    "#### Xây dựng một heap"
   ]
  },
  {
   "cell_type": "markdown",
   "metadata": {},
   "source": [
    "![](./images/Heap/1.png)"
   ]
  },
  {
   "cell_type": "markdown",
   "metadata": {},
   "source": [
    "![](./images/Heap/2.png)"
   ]
  },
  {
   "cell_type": "markdown",
   "metadata": {},
   "source": [
    "![](./images/Heap/3.png)"
   ]
  },
  {
   "cell_type": "markdown",
   "metadata": {},
   "source": [
    "![](./images/Heap/4.png)"
   ]
  },
  {
   "cell_type": "markdown",
   "metadata": {},
   "source": [
    "![](./images/Heap/5.png)"
   ]
  },
  {
   "cell_type": "markdown",
   "metadata": {},
   "source": [
    "![](./images/Heap/6.png)"
   ]
  },
  {
   "cell_type": "markdown",
   "metadata": {},
   "source": [
    "![](./images/Heap/7.png)"
   ]
  },
  {
   "cell_type": "markdown",
   "metadata": {},
   "source": [
    "![](./images/Heap/8.png)"
   ]
  },
  {
   "cell_type": "markdown",
   "metadata": {},
   "source": [
    "![](./images/Heap/9.png)"
   ]
  },
  {
   "cell_type": "markdown",
   "metadata": {},
   "source": [
    "![](./images/Heap/10.png)"
   ]
  },
  {
   "cell_type": "markdown",
   "metadata": {},
   "source": [
    "![](./images/Heap/11.png)"
   ]
  },
  {
   "cell_type": "markdown",
   "metadata": {},
   "source": [
    "![](./images/Heap/12.png)"
   ]
  },
  {
   "cell_type": "markdown",
   "metadata": {},
   "source": [
    "![](./images/Heap/13.png)"
   ]
  },
  {
   "cell_type": "markdown",
   "metadata": {},
   "source": [
    "![](./images/Heap/14.png)"
   ]
  },
  {
   "cell_type": "markdown",
   "metadata": {},
   "source": [
    "![](./images/Heap/15.png)"
   ]
  },
  {
   "cell_type": "markdown",
   "metadata": {},
   "source": [
    "![](./images/Heap/16.png)"
   ]
  },
  {
   "cell_type": "code",
   "execution_count": 23,
   "metadata": {},
   "outputs": [],
   "source": [
    "aTree = [10, 7, 6, 1, 4, 3, 9, 0, 15]"
   ]
  },
  {
   "cell_type": "code",
   "execution_count": 24,
   "metadata": {},
   "outputs": [],
   "source": [
    "start = len(aTree) // 2 - 1"
   ]
  },
  {
   "cell_type": "code",
   "execution_count": 25,
   "metadata": {},
   "outputs": [
    {
     "data": {
      "text/plain": [
       "1"
      ]
     },
     "execution_count": 25,
     "metadata": {},
     "output_type": "execute_result"
    }
   ],
   "source": [
    "aTree[start]"
   ]
  },
  {
   "cell_type": "code",
   "execution_count": 29,
   "metadata": {},
   "outputs": [],
   "source": [
    "def makeAHeap(idx, aTree):\n",
    "    targetIdx = idx\n",
    "    leftNodeIdx = 2 * idx + 1\n",
    "    rightNodeIdx = 2 * idx + 2\n",
    "    \n",
    "    if leftNodeIdx < len(aTree) and rightNodeIdx < len(aTree):\n",
    "        if aTree[idx] > min(aTree[leftNodeIdx], aTree[rightNodeIdx]):\n",
    "            if aTree[leftNodeIdx] < aTree[rightNodeIdx]:\n",
    "                targetIdx = leftNodeIdx\n",
    "            else:\n",
    "                targetIdx = rightNodeIdx\n",
    "    elif leftNodeIdx < len(aTree) and rightNodeIdx >= len(aTree):\n",
    "        if aTree[idx] > aTree[leftNodeIdx]:\n",
    "            targetIdx = leftNodeIdx\n",
    "    elif rightNodeIdx < len(aTree) and leftNodeIdx >= len(aTree):\n",
    "        if aTree[idx] > aTree[rightNodeIdx]:\n",
    "            targetIdx = rightNodeIdx\n",
    "            \n",
    "    if targetIdx != idx:\n",
    "        aTree[targetIdx], aTree[idx] = aTree[idx], aTree[targetIdx]\n",
    "        makeAHeap(targetIdx,aTree)\n",
    "    \n",
    "    return aTree\n",
    "    "
   ]
  },
  {
   "cell_type": "code",
   "execution_count": 30,
   "metadata": {},
   "outputs": [],
   "source": [
    "for idx in range(start, -1, -1):\n",
    "    makeAHeap(idx, aTree)"
   ]
  },
  {
   "cell_type": "code",
   "execution_count": 31,
   "metadata": {},
   "outputs": [
    {
     "data": {
      "text/plain": [
       "[0, 1, 3, 7, 4, 6, 9, 10, 15]"
      ]
     },
     "execution_count": 31,
     "metadata": {},
     "output_type": "execute_result"
    }
   ],
   "source": [
    "aTree"
   ]
  },
  {
   "cell_type": "markdown",
   "metadata": {},
   "source": [
    "Độ phức tạp: O(N)"
   ]
  },
  {
   "cell_type": "markdown",
   "metadata": {},
   "source": [
    "#### Thêm phần tử vào heap"
   ]
  },
  {
   "cell_type": "markdown",
   "metadata": {},
   "source": [
    "- Ta cho phần tử đó vào cuối của heap. Rồi từ đó tìm ra cha của phần tử đó\n",
    "- Nếu phần tử đó nhỏ hơn cha của nó, đổi chỗ 2 phần tử cho nhau. Vị trí mới sẽ là vị trí của phần tử cha.\n",
    "    - Ở vị trí mới này, nếu phần tử này tiếp tục nhỏ hơn phần tử cha thì lặp lại quy trình này cho đến khi phần tử cha không nhỏ hơn nó nữa\n",
    "    "
   ]
  },
  {
   "cell_type": "markdown",
   "metadata": {},
   "source": [
    "Thêm phần tử vào cuối cây"
   ]
  },
  {
   "cell_type": "code",
   "execution_count": 32,
   "metadata": {},
   "outputs": [],
   "source": [
    "val = -2"
   ]
  },
  {
   "cell_type": "code",
   "execution_count": 33,
   "metadata": {},
   "outputs": [],
   "source": [
    "aTree.append(val)"
   ]
  },
  {
   "cell_type": "markdown",
   "metadata": {},
   "source": [
    "Index của vị trí này"
   ]
  },
  {
   "cell_type": "code",
   "execution_count": 34,
   "metadata": {},
   "outputs": [],
   "source": [
    "idx = len(aTree) - 1"
   ]
  },
  {
   "cell_type": "markdown",
   "metadata": {},
   "source": [
    "- Tìm ra vị trí của cha bằng sử dụng phép tính này: (idx - 1) // 2\n",
    "- Phép tính này đúng trong cả trường hợp node này là bên trai hay bên phải của node cha"
   ]
  },
  {
   "cell_type": "code",
   "execution_count": 35,
   "metadata": {},
   "outputs": [],
   "source": [
    "while idx >= 1 and aTree[idx] < aTree[(idx-1) // 2]:\n",
    "    aTree[idx], aTree[(idx-1) // 2] = aTree[(idx-1) // 2], aTree[idx]\n",
    "    idx = (idx-1) // 2"
   ]
  },
  {
   "cell_type": "code",
   "execution_count": 36,
   "metadata": {},
   "outputs": [
    {
     "data": {
      "text/plain": [
       "[-2, 0, 3, 7, 1, 6, 9, 10, 15, 4]"
      ]
     },
     "execution_count": 36,
     "metadata": {},
     "output_type": "execute_result"
    }
   ],
   "source": [
    "aTree"
   ]
  },
  {
   "cell_type": "markdown",
   "metadata": {},
   "source": [
    "Độ phức tạp: O(logN)"
   ]
  },
  {
   "cell_type": "markdown",
   "metadata": {},
   "source": [
    "#### Xoá một phần tử trong Heap"
   ]
  },
  {
   "cell_type": "markdown",
   "metadata": {},
   "source": [
    "- Ta thay phần tử ở vị trí muốn xoá bằng phần tử cuối cùng trong heap\n",
    "- Chuẩn hoá lại heap bằng hàm makeAHeap ở vị trí đầu tiên"
   ]
  },
  {
   "cell_type": "code",
   "execution_count": 41,
   "metadata": {},
   "outputs": [],
   "source": [
    "aTree1 = [-2, 0, 3, 7, 1, 6, 9, 10, 15, 4]"
   ]
  },
  {
   "cell_type": "code",
   "execution_count": 38,
   "metadata": {},
   "outputs": [],
   "source": [
    "def remove(idx, aTree):\n",
    "    aTree[idx] = aTree[len(aTree) - 1]\n",
    "    aTree = makeAHeap(0,aTree)\n",
    "    aTree.pop()\n",
    "    return aTree"
   ]
  },
  {
   "cell_type": "code",
   "execution_count": 39,
   "metadata": {},
   "outputs": [],
   "source": [
    "aTreeAfterRemoval = remove(0, aTree1)"
   ]
  },
  {
   "cell_type": "code",
   "execution_count": 40,
   "metadata": {},
   "outputs": [
    {
     "data": {
      "text/plain": [
       "[0, 1, 3, 7, 4, 6, 9, 10, 15]"
      ]
     },
     "execution_count": 40,
     "metadata": {},
     "output_type": "execute_result"
    }
   ],
   "source": [
    "aTreeAfterRemoval"
   ]
  },
  {
   "cell_type": "markdown",
   "metadata": {},
   "source": [
    "Độ phức tạp: O(logN)"
   ]
  },
  {
   "cell_type": "markdown",
   "metadata": {},
   "source": [
    "#### Tìm phần tử nhỏ nhất trong Heap"
   ]
  },
  {
   "cell_type": "code",
   "execution_count": 122,
   "metadata": {},
   "outputs": [],
   "source": [
    "def findMin(aTree):\n",
    "    if len(aTree) == 0:\n",
    "        return -1\n",
    "    return aTree[0]"
   ]
  },
  {
   "cell_type": "markdown",
   "metadata": {},
   "source": [
    "Độ phức tạp: O(1)"
   ]
  }
 ],
 "metadata": {
  "kernelspec": {
   "display_name": "Python 3",
   "language": "python",
   "name": "python3"
  },
  "language_info": {
   "codemirror_mode": {
    "name": "ipython",
    "version": 3
   },
   "file_extension": ".py",
   "mimetype": "text/x-python",
   "name": "python",
   "nbconvert_exporter": "python",
   "pygments_lexer": "ipython3",
   "version": "3.8.2"
  }
 },
 "nbformat": 4,
 "nbformat_minor": 2
}
