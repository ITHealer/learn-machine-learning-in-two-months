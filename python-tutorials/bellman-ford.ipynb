{
 "cells": [
  {
   "cell_type": "code",
   "execution_count": 95,
   "metadata": {},
   "outputs": [],
   "source": [
    "numberOfVertices = 7"
   ]
  },
  {
   "cell_type": "code",
   "execution_count": 96,
   "metadata": {},
   "outputs": [],
   "source": [
    "edges = [\n",
    "    [0, 4, 6],\n",
    "    [0, 5, 3],\n",
    "    [5, 4, -5],\n",
    "    [5, 6, 9],\n",
    "    [6, 5, 1],\n",
    "    [4, 6, -10],\n",
    "    [3, 4, 7],\n",
    "    [3, 6, 6],\n",
    "    [4, 1, 2],\n",
    "    [1, 2, -1],\n",
    "    [2, 3, -8]\n",
    "]"
   ]
  },
  {
   "cell_type": "code",
   "execution_count": 97,
   "metadata": {},
   "outputs": [],
   "source": [
    "INF = float('inf')"
   ]
  },
  {
   "cell_type": "code",
   "execution_count": 98,
   "metadata": {},
   "outputs": [],
   "source": [
    "dist = [INF for _ in range(numberOfVertices)]"
   ]
  },
  {
   "cell_type": "code",
   "execution_count": 99,
   "metadata": {},
   "outputs": [
    {
     "data": {
      "text/plain": [
       "[inf, inf, inf, inf, inf, inf, inf]"
      ]
     },
     "execution_count": 99,
     "metadata": {},
     "output_type": "execute_result"
    }
   ],
   "source": [
    "dist"
   ]
  },
  {
   "cell_type": "code",
   "execution_count": 100,
   "metadata": {},
   "outputs": [],
   "source": [
    "path = [-1 for _ in range(numberOfVertices)]"
   ]
  },
  {
   "cell_type": "code",
   "execution_count": 101,
   "metadata": {},
   "outputs": [],
   "source": [
    "def bellmanFord(src, edges, dist, path):\n",
    "    dist[src] = 0\n",
    "    for i in range(1, numberOfVertices):\n",
    "        for edge in edges:\n",
    "            s, e, w = edge\n",
    "            if dist[s] != INF and dist[s] + w < dist[e]:\n",
    "                dist[e] = dist[s] + w\n",
    "                path[e] = s\n",
    "                \n",
    "                \n",
    "    # Check has a cycle\n",
    "    for edge in edges:\n",
    "        s, e, w = edge\n",
    "        if dist[s] != INF and dist[s] + w < dist[e]:\n",
    "            print(\"Has a cycle here\")\n",
    "            # Do sthing\n"
   ]
  },
  {
   "cell_type": "code",
   "execution_count": 102,
   "metadata": {},
   "outputs": [
    {
     "name": "stdout",
     "output_type": "stream",
     "text": [
      "Has a cycle here\n"
     ]
    }
   ],
   "source": [
    "bellmanFord(0, edges, dist, path)"
   ]
  },
  {
   "cell_type": "code",
   "execution_count": 103,
   "metadata": {},
   "outputs": [
    {
     "data": {
      "text/plain": [
       "[0, -28, -29, -37, -30, -39, -40]"
      ]
     },
     "execution_count": 103,
     "metadata": {},
     "output_type": "execute_result"
    }
   ],
   "source": [
    "dist"
   ]
  },
  {
   "cell_type": "code",
   "execution_count": 104,
   "metadata": {},
   "outputs": [
    {
     "data": {
      "text/plain": [
       "[-1, 4, 1, 2, 5, 6, 4]"
      ]
     },
     "execution_count": 104,
     "metadata": {},
     "output_type": "execute_result"
    }
   ],
   "source": [
    "path"
   ]
  }
 ],
 "metadata": {
  "kernelspec": {
   "display_name": "Python 3",
   "language": "python",
   "name": "python3"
  },
  "language_info": {
   "codemirror_mode": {
    "name": "ipython",
    "version": 3
   },
   "file_extension": ".py",
   "mimetype": "text/x-python",
   "name": "python",
   "nbconvert_exporter": "python",
   "pygments_lexer": "ipython3",
   "version": "3.8.2"
  }
 },
 "nbformat": 4,
 "nbformat_minor": 4
}
