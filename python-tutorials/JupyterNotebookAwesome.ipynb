{
 "cells": [
  {
   "cell_type": "code",
   "execution_count": 1,
   "metadata": {},
   "outputs": [
    {
     "name": "stdout",
     "output_type": "stream",
     "text": [
      "Algorithms.ipynb             integer-float-boolean.ipynb\r\n",
      "JupyterNotebookAwesome.ipynb linked-list.ipynb\r\n",
      "README.md                    list.ipynb\r\n",
      "Recursion.ipynb              loop.ipynb\r\n",
      "binary-tree.ipynb            queue.ipynb\r\n",
      "built-in-function.ipynb      set.ipynb\r\n",
      "dictionary.ipynb             stack.ipynb\r\n",
      "function.ipynb               string.ipynb\r\n",
      "graph.ipynb                  tree.ipynb\r\n",
      "heap.ipynb                   tuple.ipynb\r\n"
     ]
    }
   ],
   "source": [
    "!ls"
   ]
  },
  {
   "cell_type": "markdown",
   "metadata": {},
   "source": [
    "## 3D"
   ]
  },
  {
   "cell_type": "code",
   "execution_count": 2,
   "metadata": {},
   "outputs": [
    {
     "name": "stdout",
     "output_type": "stream",
     "text": [
      "Collecting ipyvolume\n",
      "\u001b[?25l  Downloading https://files.pythonhosted.org/packages/c4/be/09982f3bce56da844c5ee4642a8bfae9908e61d7e6999e7e91479cc64b6a/ipyvolume-0.5.2-py2.py3-none-any.whl (2.9MB)\n",
      "\u001b[K     |████████████████████████████████| 2.9MB 2.9MB/s eta 0:00:01\n",
      "\u001b[?25hCollecting requests (from ipyvolume)\n",
      "\u001b[?25l  Downloading https://files.pythonhosted.org/packages/1a/70/1935c770cb3be6e3a8b78ced23d7e0f3b187f5cbfab4749523ed65d7c9b1/requests-2.23.0-py2.py3-none-any.whl (58kB)\n",
      "\u001b[K     |████████████████████████████████| 61kB 6.6MB/s eta 0:00:011\n",
      "\u001b[?25hRequirement already satisfied: ipywidgets>=7.5 in /Library/Frameworks/Python.framework/Versions/3.8/lib/python3.8/site-packages (from ipyvolume) (7.5.1)\n",
      "Collecting ipywebrtc (from ipyvolume)\n",
      "\u001b[?25l  Downloading https://files.pythonhosted.org/packages/65/6b/b78b2b6f96fb2299eebae3083d3625cedb62a35ddc9815897f25c8093edd/ipywebrtc-0.5.0-py2.py3-none-any.whl (1.1MB)\n",
      "\u001b[K     |████████████████████████████████| 1.1MB 7.0MB/s eta 0:00:01\n",
      "\u001b[?25hCollecting pythreejs>=1.0.0 (from ipyvolume)\n",
      "\u001b[?25l  Downloading https://files.pythonhosted.org/packages/41/21/8307f7308686a08fa7be43ff5e25daf041c8b46d5874a243c262e4665cb8/pythreejs-2.1.1-py2.py3-none-any.whl (4.2MB)\n",
      "\u001b[K     |████████████████████████████████| 4.2MB 2.7MB/s eta 0:00:01     |██▍                             | 317kB 2.7MB/s eta 0:00:02     |████▉                           | 634kB 2.7MB/s eta 0:00:02     |████████████████████████▊       | 3.3MB 2.7MB/s eta 0:00:01     |████████████████████████████████| 4.2MB 2.7MB/s \n",
      "\u001b[?25hCollecting traittypes (from ipyvolume)\n",
      "  Downloading https://files.pythonhosted.org/packages/9c/d1/8d5bd662703cc1764d986f6908a608777305946fa634d34c470cd4a1e729/traittypes-0.2.1-py2.py3-none-any.whl\n",
      "Collecting numpy (from ipyvolume)\n",
      "\u001b[?25l  Downloading https://files.pythonhosted.org/packages/a7/06/6d616fb5fb423db595b1502cbd873f3f2025f2fd8509046c771a20c4302a/numpy-1.18.1-cp38-cp38-macosx_10_9_x86_64.whl (15.2MB)\n",
      "\u001b[K     |████████████████████████████████| 15.2MB 3.5MB/s eta 0:00:01    |██████████████████▊             | 8.9MB 2.5MB/s eta 0:00:03\n",
      "\u001b[?25hRequirement already satisfied: traitlets in /Library/Frameworks/Python.framework/Versions/3.8/lib/python3.8/site-packages (from ipyvolume) (4.3.3)\n",
      "Collecting Pillow (from ipyvolume)\n",
      "\u001b[?25l  Downloading https://files.pythonhosted.org/packages/36/fb/420e42d696b096a3566fc0f47d9c7df8f2abec0faf13f913ba217233e06b/Pillow-7.0.0-cp38-cp38-macosx_10_9_x86_64.whl (2.1MB)\n",
      "\u001b[K     |████████████████████████████████| 2.1MB 8.2MB/s eta 0:00:01\n",
      "\u001b[?25hCollecting idna<3,>=2.5 (from requests->ipyvolume)\n",
      "\u001b[?25l  Downloading https://files.pythonhosted.org/packages/89/e3/afebe61c546d18fb1709a61bee788254b40e736cff7271c7de5de2dc4128/idna-2.9-py2.py3-none-any.whl (58kB)\n",
      "\u001b[K     |████████████████████████████████| 61kB 17.2MB/s eta 0:00:01\n",
      "\u001b[?25hCollecting urllib3!=1.25.0,!=1.25.1,<1.26,>=1.21.1 (from requests->ipyvolume)\n",
      "  Using cached https://files.pythonhosted.org/packages/e8/74/6e4f91745020f967d09332bb2b8b9b10090957334692eb88ea4afe91b77f/urllib3-1.25.8-py2.py3-none-any.whl\n",
      "Collecting certifi>=2017.4.17 (from requests->ipyvolume)\n",
      "  Using cached https://files.pythonhosted.org/packages/b9/63/df50cac98ea0d5b006c55a399c3bf1db9da7b5a24de7890bc9cfd5dd9e99/certifi-2019.11.28-py2.py3-none-any.whl\n",
      "Collecting chardet<4,>=3.0.2 (from requests->ipyvolume)\n",
      "  Using cached https://files.pythonhosted.org/packages/bc/a9/01ffebfb562e4274b6487b4bb1ddec7ca55ec7510b22e4c51f14098443b8/chardet-3.0.4-py2.py3-none-any.whl\n",
      "Requirement already satisfied: widgetsnbextension~=3.5.0 in /Library/Frameworks/Python.framework/Versions/3.8/lib/python3.8/site-packages (from ipywidgets>=7.5->ipyvolume) (3.5.1)\n",
      "Requirement already satisfied: ipykernel>=4.5.1 in /Library/Frameworks/Python.framework/Versions/3.8/lib/python3.8/site-packages (from ipywidgets>=7.5->ipyvolume) (5.1.4)\n",
      "Requirement already satisfied: nbformat>=4.2.0 in /Library/Frameworks/Python.framework/Versions/3.8/lib/python3.8/site-packages (from ipywidgets>=7.5->ipyvolume) (5.0.4)\n",
      "Requirement already satisfied: ipython>=4.0.0; python_version >= \"3.3\" in /Library/Frameworks/Python.framework/Versions/3.8/lib/python3.8/site-packages (from ipywidgets>=7.5->ipyvolume) (7.13.0)\n",
      "Collecting ipydatawidgets>=1.1.1 (from pythreejs>=1.0.0->ipyvolume)\n",
      "\u001b[?25l  Downloading https://files.pythonhosted.org/packages/3d/62/eb221e1efaebf42af438c109088fbeea00561e5567a202fc8425d7b9c34d/ipydatawidgets-4.0.1-py2.py3-none-any.whl (250kB)\n",
      "\u001b[K     |████████████████████████████████| 256kB 9.4MB/s eta 0:00:01\n",
      "\u001b[?25hRequirement already satisfied: ipython-genutils in /Library/Frameworks/Python.framework/Versions/3.8/lib/python3.8/site-packages (from traitlets->ipyvolume) (0.2.0)\n",
      "Requirement already satisfied: six in /Library/Frameworks/Python.framework/Versions/3.8/lib/python3.8/site-packages (from traitlets->ipyvolume) (1.14.0)\n",
      "Requirement already satisfied: decorator in /Library/Frameworks/Python.framework/Versions/3.8/lib/python3.8/site-packages (from traitlets->ipyvolume) (4.4.2)\n",
      "Requirement already satisfied: notebook>=4.4.1 in /Library/Frameworks/Python.framework/Versions/3.8/lib/python3.8/site-packages (from widgetsnbextension~=3.5.0->ipywidgets>=7.5->ipyvolume) (6.0.3)\n",
      "Requirement already satisfied: appnope; platform_system == \"Darwin\" in /Library/Frameworks/Python.framework/Versions/3.8/lib/python3.8/site-packages (from ipykernel>=4.5.1->ipywidgets>=7.5->ipyvolume) (0.1.0)\n",
      "Requirement already satisfied: jupyter-client in /Library/Frameworks/Python.framework/Versions/3.8/lib/python3.8/site-packages (from ipykernel>=4.5.1->ipywidgets>=7.5->ipyvolume) (6.0.0)\n",
      "Requirement already satisfied: tornado>=4.2 in /Library/Frameworks/Python.framework/Versions/3.8/lib/python3.8/site-packages (from ipykernel>=4.5.1->ipywidgets>=7.5->ipyvolume) (6.0.3)\n",
      "Requirement already satisfied: jsonschema!=2.5.0,>=2.4 in /Library/Frameworks/Python.framework/Versions/3.8/lib/python3.8/site-packages (from nbformat>=4.2.0->ipywidgets>=7.5->ipyvolume) (3.2.0)\n",
      "Requirement already satisfied: jupyter-core in /Library/Frameworks/Python.framework/Versions/3.8/lib/python3.8/site-packages (from nbformat>=4.2.0->ipywidgets>=7.5->ipyvolume) (4.6.3)\n",
      "Requirement already satisfied: pygments in /Library/Frameworks/Python.framework/Versions/3.8/lib/python3.8/site-packages (from ipython>=4.0.0; python_version >= \"3.3\"->ipywidgets>=7.5->ipyvolume) (2.5.2)\n",
      "Requirement already satisfied: backcall in /Library/Frameworks/Python.framework/Versions/3.8/lib/python3.8/site-packages (from ipython>=4.0.0; python_version >= \"3.3\"->ipywidgets>=7.5->ipyvolume) (0.1.0)\n",
      "Requirement already satisfied: setuptools>=18.5 in /Library/Frameworks/Python.framework/Versions/3.8/lib/python3.8/site-packages (from ipython>=4.0.0; python_version >= \"3.3\"->ipywidgets>=7.5->ipyvolume) (41.2.0)\n",
      "Requirement already satisfied: pexpect; sys_platform != \"win32\" in /Library/Frameworks/Python.framework/Versions/3.8/lib/python3.8/site-packages (from ipython>=4.0.0; python_version >= \"3.3\"->ipywidgets>=7.5->ipyvolume) (4.8.0)\n",
      "Requirement already satisfied: pickleshare in /Library/Frameworks/Python.framework/Versions/3.8/lib/python3.8/site-packages (from ipython>=4.0.0; python_version >= \"3.3\"->ipywidgets>=7.5->ipyvolume) (0.7.5)\n",
      "Requirement already satisfied: jedi>=0.10 in /Library/Frameworks/Python.framework/Versions/3.8/lib/python3.8/site-packages (from ipython>=4.0.0; python_version >= \"3.3\"->ipywidgets>=7.5->ipyvolume) (0.16.0)\n",
      "Requirement already satisfied: prompt-toolkit!=3.0.0,!=3.0.1,<3.1.0,>=2.0.0 in /Library/Frameworks/Python.framework/Versions/3.8/lib/python3.8/site-packages (from ipython>=4.0.0; python_version >= \"3.3\"->ipywidgets>=7.5->ipyvolume) (3.0.3)\n",
      "Requirement already satisfied: terminado>=0.8.1 in /Library/Frameworks/Python.framework/Versions/3.8/lib/python3.8/site-packages (from notebook>=4.4.1->widgetsnbextension~=3.5.0->ipywidgets>=7.5->ipyvolume) (0.8.3)\n",
      "Requirement already satisfied: Send2Trash in /Library/Frameworks/Python.framework/Versions/3.8/lib/python3.8/site-packages (from notebook>=4.4.1->widgetsnbextension~=3.5.0->ipywidgets>=7.5->ipyvolume) (1.5.0)\n",
      "Requirement already satisfied: nbconvert in /Library/Frameworks/Python.framework/Versions/3.8/lib/python3.8/site-packages (from notebook>=4.4.1->widgetsnbextension~=3.5.0->ipywidgets>=7.5->ipyvolume) (5.6.1)\n",
      "Requirement already satisfied: jinja2 in /Library/Frameworks/Python.framework/Versions/3.8/lib/python3.8/site-packages (from notebook>=4.4.1->widgetsnbextension~=3.5.0->ipywidgets>=7.5->ipyvolume) (2.11.1)\n"
     ]
    },
    {
     "name": "stdout",
     "output_type": "stream",
     "text": [
      "Requirement already satisfied: prometheus-client in /Library/Frameworks/Python.framework/Versions/3.8/lib/python3.8/site-packages (from notebook>=4.4.1->widgetsnbextension~=3.5.0->ipywidgets>=7.5->ipyvolume) (0.7.1)\n",
      "Requirement already satisfied: pyzmq>=17 in /Library/Frameworks/Python.framework/Versions/3.8/lib/python3.8/site-packages (from notebook>=4.4.1->widgetsnbextension~=3.5.0->ipywidgets>=7.5->ipyvolume) (19.0.0)\n",
      "Requirement already satisfied: python-dateutil>=2.1 in /Library/Frameworks/Python.framework/Versions/3.8/lib/python3.8/site-packages (from jupyter-client->ipykernel>=4.5.1->ipywidgets>=7.5->ipyvolume) (2.8.1)\n",
      "Requirement already satisfied: pyrsistent>=0.14.0 in /Library/Frameworks/Python.framework/Versions/3.8/lib/python3.8/site-packages (from jsonschema!=2.5.0,>=2.4->nbformat>=4.2.0->ipywidgets>=7.5->ipyvolume) (0.15.7)\n",
      "Requirement already satisfied: attrs>=17.4.0 in /Library/Frameworks/Python.framework/Versions/3.8/lib/python3.8/site-packages (from jsonschema!=2.5.0,>=2.4->nbformat>=4.2.0->ipywidgets>=7.5->ipyvolume) (19.3.0)\n",
      "Requirement already satisfied: ptyprocess>=0.5 in /Library/Frameworks/Python.framework/Versions/3.8/lib/python3.8/site-packages (from pexpect; sys_platform != \"win32\"->ipython>=4.0.0; python_version >= \"3.3\"->ipywidgets>=7.5->ipyvolume) (0.6.0)\n",
      "Requirement already satisfied: parso>=0.5.2 in /Library/Frameworks/Python.framework/Versions/3.8/lib/python3.8/site-packages (from jedi>=0.10->ipython>=4.0.0; python_version >= \"3.3\"->ipywidgets>=7.5->ipyvolume) (0.6.2)\n",
      "Requirement already satisfied: wcwidth in /Library/Frameworks/Python.framework/Versions/3.8/lib/python3.8/site-packages (from prompt-toolkit!=3.0.0,!=3.0.1,<3.1.0,>=2.0.0->ipython>=4.0.0; python_version >= \"3.3\"->ipywidgets>=7.5->ipyvolume) (0.1.8)\n",
      "Requirement already satisfied: bleach in /Library/Frameworks/Python.framework/Versions/3.8/lib/python3.8/site-packages (from nbconvert->notebook>=4.4.1->widgetsnbextension~=3.5.0->ipywidgets>=7.5->ipyvolume) (3.1.1)\n",
      "Requirement already satisfied: mistune<2,>=0.8.1 in /Library/Frameworks/Python.framework/Versions/3.8/lib/python3.8/site-packages (from nbconvert->notebook>=4.4.1->widgetsnbextension~=3.5.0->ipywidgets>=7.5->ipyvolume) (0.8.4)\n",
      "Requirement already satisfied: entrypoints>=0.2.2 in /Library/Frameworks/Python.framework/Versions/3.8/lib/python3.8/site-packages (from nbconvert->notebook>=4.4.1->widgetsnbextension~=3.5.0->ipywidgets>=7.5->ipyvolume) (0.3)\n",
      "Requirement already satisfied: pandocfilters>=1.4.1 in /Library/Frameworks/Python.framework/Versions/3.8/lib/python3.8/site-packages (from nbconvert->notebook>=4.4.1->widgetsnbextension~=3.5.0->ipywidgets>=7.5->ipyvolume) (1.4.2)\n",
      "Requirement already satisfied: testpath in /Library/Frameworks/Python.framework/Versions/3.8/lib/python3.8/site-packages (from nbconvert->notebook>=4.4.1->widgetsnbextension~=3.5.0->ipywidgets>=7.5->ipyvolume) (0.4.4)\n",
      "Requirement already satisfied: defusedxml in /Library/Frameworks/Python.framework/Versions/3.8/lib/python3.8/site-packages (from nbconvert->notebook>=4.4.1->widgetsnbextension~=3.5.0->ipywidgets>=7.5->ipyvolume) (0.6.0)\n",
      "Requirement already satisfied: MarkupSafe>=0.23 in /Library/Frameworks/Python.framework/Versions/3.8/lib/python3.8/site-packages (from jinja2->notebook>=4.4.1->widgetsnbextension~=3.5.0->ipywidgets>=7.5->ipyvolume) (1.1.1)\n",
      "Requirement already satisfied: webencodings in /Library/Frameworks/Python.framework/Versions/3.8/lib/python3.8/site-packages (from bleach->nbconvert->notebook>=4.4.1->widgetsnbextension~=3.5.0->ipywidgets>=7.5->ipyvolume) (0.5.1)\n",
      "Installing collected packages: idna, urllib3, certifi, chardet, requests, ipywebrtc, numpy, traittypes, ipydatawidgets, pythreejs, Pillow, ipyvolume\n",
      "Successfully installed Pillow-7.0.0 certifi-2019.11.28 chardet-3.0.4 idna-2.9 ipydatawidgets-4.0.1 ipyvolume-0.5.2 ipywebrtc-0.5.0 numpy-1.18.1 pythreejs-2.1.1 requests-2.23.0 traittypes-0.2.1 urllib3-1.25.8\n",
      "\u001b[33mWARNING: You are using pip version 19.2.3, however version 20.0.2 is available.\n",
      "You should consider upgrading via the 'pip install --upgrade pip' command.\u001b[0m\n"
     ]
    }
   ],
   "source": [
    "!pip3 install ipyvolume"
   ]
  },
  {
   "cell_type": "code",
   "execution_count": 6,
   "metadata": {},
   "outputs": [],
   "source": [
    "import ipyvolume as ipv\n",
    "import numpy as np"
   ]
  },
  {
   "cell_type": "code",
   "execution_count": 7,
   "metadata": {},
   "outputs": [],
   "source": [
    "N = 1000"
   ]
  },
  {
   "cell_type": "code",
   "execution_count": 43,
   "metadata": {
    "scrolled": true
   },
   "outputs": [
    {
     "data": {
      "application/vnd.jupyter.widget-view+json": {
       "model_id": "3678892bbf414e0faef45afbaf4c9104",
       "version_major": 2,
       "version_minor": 0
      },
      "text/plain": [
       "VBox(children=(Figure(camera=PerspectiveCamera(fov=46.0, position=(0.0, 0.0, 2.0), quaternion=(0.0, 0.0, 0.0, …"
      ]
     },
     "metadata": {},
     "output_type": "display_data"
    }
   ],
   "source": [
    "import ipyvolume as ipv\n",
    "import numpy as np\n",
    "x, y, z = np.random.random((3, 1))\n",
    "ipv.quickscatter(x, y, z, size=1, marker=\"sphere\")"
   ]
  },
  {
   "cell_type": "code",
   "execution_count": 44,
   "metadata": {},
   "outputs": [
    {
     "data": {
      "text/plain": [
       "array([0.35248597])"
      ]
     },
     "execution_count": 44,
     "metadata": {},
     "output_type": "execute_result"
    }
   ],
   "source": [
    "x"
   ]
  },
  {
   "cell_type": "code",
   "execution_count": 45,
   "metadata": {},
   "outputs": [
    {
     "data": {
      "text/plain": [
       "array([0.2537852])"
      ]
     },
     "execution_count": 45,
     "metadata": {},
     "output_type": "execute_result"
    }
   ],
   "source": [
    "y"
   ]
  },
  {
   "cell_type": "code",
   "execution_count": 41,
   "metadata": {},
   "outputs": [
    {
     "data": {
      "text/plain": [
       "array([0.19635043, 0.12657668, 0.86282728, ..., 0.48181048, 0.59047497,\n",
       "       0.01604663])"
      ]
     },
     "execution_count": 41,
     "metadata": {},
     "output_type": "execute_result"
    }
   ],
   "source": [
    "x"
   ]
  },
  {
   "cell_type": "code",
   "execution_count": 36,
   "metadata": {},
   "outputs": [
    {
     "data": {
      "application/vnd.jupyter.widget-view+json": {
       "model_id": "53afc611d20a4b0f8c08467f09e49bcc",
       "version_major": 2,
       "version_minor": 0
      },
      "text/plain": [
       "VBox(children=(Figure(camera=PerspectiveCamera(fov=46.0, position=(0.0, 0.0, 2.0), quaternion=(0.0, 0.0, 0.0, …"
      ]
     },
     "metadata": {},
     "output_type": "display_data"
    }
   ],
   "source": [
    "fig = ipv.figure()\n",
    "ipv.quiver(x, y, z, x, y, z, size=1, marker=\"sphere\")\n",
    "ipv.show()"
   ]
  },
  {
   "cell_type": "code",
   "execution_count": 33,
   "metadata": {},
   "outputs": [],
   "source": [
    "ipv.save(\"index.html\")"
   ]
  },
  {
   "cell_type": "code",
   "execution_count": 18,
   "metadata": {},
   "outputs": [
    {
     "data": {
      "application/vnd.jupyter.widget-view+json": {
       "model_id": "3a93e182ebaf49c29577ab65d2605cdd",
       "version_major": 2,
       "version_minor": 0
      },
      "text/plain": [
       "VBox(children=(Figure(camera=PerspectiveCamera(fov=46.0, position=(0.0, 0.0, 2.0), quaternion=(0.0, 0.0, 0.0, …"
      ]
     },
     "metadata": {},
     "output_type": "display_data"
    }
   ],
   "source": [
    "# f(u, v) -> (u, v, u*v**2)\n",
    "a = np.arange(-5, 5)\n",
    "U, V = np.meshgrid(a, a)\n",
    "X = U\n",
    "Y = V\n",
    "Z = X**3\n",
    "\n",
    "ipv.figure()\n",
    "ipv.plot_surface(X, Z, Y, color=\"orange\")\n",
    "ipv.plot_wireframe(X, Z, Y, color=\"red\")\n",
    "ipv.show()"
   ]
  },
  {
   "cell_type": "code",
   "execution_count": 46,
   "metadata": {},
   "outputs": [],
   "source": [
    "x, y, z, u, v, w = np.random.random((6, 1000))*2-1\n"
   ]
  },
  {
   "cell_type": "code",
   "execution_count": 47,
   "metadata": {},
   "outputs": [
    {
     "data": {
      "text/plain": [
       "array([ 0.45325037,  0.89015119,  0.1991896 ,  0.34025324, -0.7301398 ,\n",
       "       -0.46920411, -0.47233456, -0.59520118,  0.40408152,  0.02972971,\n",
       "       -0.2930181 ,  0.46273107,  0.69899336,  0.86406597, -0.89067884,\n",
       "        0.65081751, -0.54255483,  0.43872944,  0.99382266,  0.70961163,\n",
       "       -0.94478691,  0.37134523, -0.99772892, -0.48342542, -0.32572083,\n",
       "       -0.06445356, -0.06576571,  0.62599209,  0.07793774, -0.06684187,\n",
       "        0.92327135, -0.20803279, -0.94991059, -0.74704934,  0.52159105,\n",
       "       -0.81758084, -0.69800427, -0.19302312,  0.84087765, -0.78338824,\n",
       "        0.35863129,  0.26045042,  0.81748205, -0.43550213,  0.67554429,\n",
       "       -0.56179015, -0.01615352,  0.21032537, -0.80557486, -0.04218608,\n",
       "        0.00672699, -0.79045231,  0.10663257,  0.01668787,  0.36724626,\n",
       "       -0.52912574, -0.90257715,  0.76518189, -0.98507459, -0.61418883,\n",
       "       -0.50695207,  0.9052027 ,  0.7082764 ,  0.74578565,  0.10598051,\n",
       "        0.5407364 , -0.82015447,  0.99779341,  0.35055269,  0.86824916,\n",
       "       -0.59410281,  0.12937078,  0.79579137, -0.30523324, -0.48740026,\n",
       "        0.40737046, -0.10472113,  0.756487  , -0.78795621,  0.86586635,\n",
       "        0.3687923 ,  0.9595161 , -0.11534488,  0.1545288 , -0.35752366,\n",
       "        0.59946258, -0.28241692,  0.94351325, -0.21383686,  0.7024955 ,\n",
       "        0.33810773,  0.51421352, -0.61429228, -0.29802517, -0.27286592,\n",
       "        0.76167627, -0.21967888,  0.04839756,  0.41286644,  0.9035342 ,\n",
       "       -0.47684497, -0.71534103,  0.80312126, -0.16598002, -0.42227228,\n",
       "       -0.01315483,  0.79464013, -0.39017713,  0.92305899, -0.84995846,\n",
       "        0.3016344 ,  0.50299926, -0.58852524, -0.48006333, -0.46958305,\n",
       "       -0.49381189,  0.48923861,  0.61228465,  0.72493706, -0.5889143 ,\n",
       "        0.45133763, -0.75037293,  0.19479931,  0.6977126 , -0.87267096,\n",
       "        0.90491038,  0.24252857,  0.92227885, -0.64582604, -0.87337104,\n",
       "        0.99074415, -0.76884695, -0.18973188,  0.70580737,  0.02219782,\n",
       "        0.9809377 ,  0.29469779, -0.91530886, -0.8150698 , -0.08107973,\n",
       "       -0.97850955,  0.12656951,  0.79466268,  0.69339911, -0.52566642,\n",
       "       -0.04599898, -0.13544101,  0.22796349,  0.15722751,  0.32072316,\n",
       "       -0.82616558, -0.43739445, -0.36946232, -0.05694202,  0.19029082,\n",
       "        0.16389679,  0.31873254,  0.04198468,  0.63603996,  0.31776248,\n",
       "        0.32000927, -0.95372075, -0.2156691 ,  0.20439083,  0.46312692,\n",
       "       -0.41462054,  0.35425835,  0.77649123, -0.64538862, -0.54257873,\n",
       "       -0.78691218,  0.1503961 , -0.60521821, -0.65586496, -0.24090221,\n",
       "        0.21721434,  0.56132438, -0.07697291, -0.80386643,  0.60774369,\n",
       "       -0.20567305,  0.97335913,  0.79651692, -0.1382641 , -0.58917412,\n",
       "        0.07037492,  0.58359355,  0.21403763,  0.22112749, -0.80753145,\n",
       "        0.0934043 , -0.72906829, -0.56840329, -0.7223609 , -0.16277244,\n",
       "       -0.31665321, -0.52696098,  0.97735994,  0.77393341,  0.08379515,\n",
       "        0.40049804, -0.60107458,  0.0444449 ,  0.75603842,  0.48118418,\n",
       "       -0.07625716, -0.67969883, -0.00748192,  0.97559111, -0.29334906,\n",
       "        0.8771086 , -0.87117242,  0.22933175,  0.89434882,  0.53903142,\n",
       "        0.20313203, -0.57822515, -0.94003673, -0.02708313,  0.60525309,\n",
       "       -0.85854884, -0.34268192,  0.38843999, -0.40827124,  0.17354746,\n",
       "       -0.47600609,  0.29388572, -0.68506756, -0.62316376,  0.92964067,\n",
       "       -0.6654443 , -0.59615451,  0.93029394, -0.64882093,  0.6035665 ,\n",
       "        0.46944568,  0.63658379, -0.27707677, -0.08430117, -0.14415766,\n",
       "        0.7609222 , -0.01901287,  0.244092  ,  0.76679469, -0.44013812,\n",
       "        0.13936905, -0.32800474, -0.28676338, -0.98029992, -0.52597613,\n",
       "       -0.39543852,  0.03692754, -0.43639533, -0.27010915,  0.36222129,\n",
       "       -0.19279517, -0.27773268,  0.5064835 , -0.7641233 ,  0.13900542,\n",
       "        0.65698373, -0.99238499, -0.26391186, -0.81136805, -0.91469993,\n",
       "       -0.69651236,  0.56928922,  0.76317142, -0.27033824,  0.973405  ,\n",
       "       -0.95464985, -0.95015507,  0.67961437, -0.14166174,  0.32408264,\n",
       "        0.66703113, -0.14308149,  0.98288864,  0.31486195,  0.79617867,\n",
       "       -0.27715731, -0.07383553, -0.94622997,  0.23585955,  0.51511403,\n",
       "       -0.49061514,  0.13481064, -0.86175055, -0.74907547,  0.61565457,\n",
       "        0.76321019,  0.41245132,  0.69706067, -0.0954353 ,  0.81489652,\n",
       "       -0.08099258,  0.924409  ,  0.32814978,  0.55142085,  0.70330411,\n",
       "       -0.92612878, -0.82635486,  0.07557163,  0.91969324, -0.99341033,\n",
       "       -0.66351047,  0.13905685,  0.90194575, -0.09587702,  0.40557933,\n",
       "       -0.15559253, -0.58799788,  0.35971252,  0.16885781,  0.66377507,\n",
       "        0.31869364, -0.89305358, -0.00906098, -0.07733175, -0.82085821,\n",
       "        0.14091174, -0.98410403,  0.87597619,  0.93474468,  0.67540517,\n",
       "        0.67264711, -0.6748066 ,  0.72716226, -0.94154251,  0.90521811,\n",
       "        0.11561157, -0.03082923, -0.55536641, -0.03520452, -0.70106346,\n",
       "       -0.21985614,  0.65392703, -0.75558911,  0.45014788, -0.40366781,\n",
       "        0.04284575,  0.72945405,  0.7626699 ,  0.86664869, -0.32318155,\n",
       "       -0.35850036,  0.566129  , -0.26533194,  0.19897629, -0.19998778,\n",
       "       -0.96933688, -0.47728821, -0.11783567, -0.69162723,  0.81340812,\n",
       "        0.54166771, -0.85691979, -0.43820631, -0.62193853, -0.32189692,\n",
       "        0.81212276,  0.99075605,  0.29982315, -0.41900842,  0.78859678,\n",
       "       -0.45778468, -0.84502967,  0.29040988,  0.43452412, -0.60082948,\n",
       "        0.74488733,  0.87786834,  0.32106744,  0.46421883,  0.45308475,\n",
       "       -0.05867032, -0.87974343, -0.11003779,  0.65806625, -0.64636685,\n",
       "       -0.6425042 ,  0.03757378,  0.85557157,  0.19145721, -0.0544995 ,\n",
       "        0.93277196,  0.7297307 ,  0.45369747, -0.55711354, -0.45720183,\n",
       "       -0.528083  ,  0.11266842,  0.4475836 , -0.23934913,  0.73144808,\n",
       "       -0.04194883, -0.08069628, -0.5125691 ,  0.0492451 ,  0.22518285,\n",
       "        0.01371022, -0.0435059 ,  0.62120993, -0.0637742 ,  0.36033804,\n",
       "       -0.79227634, -0.71163318, -0.73480679, -0.40118365, -0.91323078,\n",
       "       -0.7886659 ,  0.42863789,  0.98894607, -0.55867614, -0.84919912,\n",
       "       -0.73578121, -0.88690491, -0.82384219,  0.94812873,  0.95303724,\n",
       "       -0.96609572, -0.57042832, -0.27098651, -0.55821192, -0.31948819,\n",
       "       -0.49095889,  0.18186799, -0.94374447, -0.5159619 , -0.69940959,\n",
       "        0.78878674,  0.55104466, -0.78768813,  0.63642388,  0.35366931,\n",
       "        0.78307654, -0.55622384,  0.07171818,  0.7726463 ,  0.28100528,\n",
       "        0.48192061,  0.10090116, -0.69749598, -0.52737612,  0.89880414,\n",
       "       -0.80864123, -0.43874317,  0.81728088, -0.96422943, -0.25952861,\n",
       "       -0.09550172, -0.82015095,  0.60150805,  0.60305408, -0.28700035,\n",
       "        0.89937547,  0.35808096, -0.50052829, -0.58822871, -0.16033352,\n",
       "        0.25712041, -0.85149767, -0.47104533,  0.48908227, -0.80665637,\n",
       "       -0.04703047,  0.90668671,  0.94270379, -0.77317672,  0.43004155,\n",
       "       -0.57207177,  0.64356253,  0.75529585,  0.26253927,  0.38707701,\n",
       "        0.97929094, -0.89252233,  0.7740279 ,  0.76634228,  0.80131686,\n",
       "        0.54784512,  0.87007991, -0.40387695, -0.59907147, -0.05457787,\n",
       "       -0.52319485, -0.1966465 , -0.68589534,  0.24906704, -0.89509521,\n",
       "        0.40001783, -0.86153107,  0.39583841, -0.00423483,  0.12596755,\n",
       "       -0.17278769, -0.84241948,  0.20794136, -0.79355068, -0.98341391,\n",
       "        0.64189507,  0.13697007,  0.49851411,  0.87876408, -0.00224122,\n",
       "       -0.87692798, -0.08471581, -0.74656986, -0.12988221,  0.69107746,\n",
       "       -0.37946205, -0.44176375,  0.82563706, -0.5083295 , -0.84702012,\n",
       "       -0.83422036,  0.29161319, -0.81678043, -0.00250635, -0.17195604,\n",
       "       -0.25957754, -0.17824103, -0.17549441, -0.43750687, -0.9156939 ,\n",
       "        0.96122261, -0.2784694 ,  0.79263349,  0.45813934, -0.12554336,\n",
       "        0.44727958,  0.15067708, -0.65581751,  0.90982524, -0.31616578,\n",
       "        0.91971139, -0.45402621,  0.99379577,  0.92561242,  0.76156199,\n",
       "       -0.64429294, -0.9630875 ,  0.87697292,  0.96820594,  0.06165211,\n",
       "        0.25801056, -0.97951769,  0.64331903,  0.43480822, -0.95207324,\n",
       "       -0.36608901, -0.28891975, -0.95124854, -0.17076992,  0.83990293,\n",
       "       -0.56824937,  0.59698393, -0.29014595, -0.63705182,  0.78873361,\n",
       "       -0.88650362, -0.52752454,  0.72065483, -0.70066913,  0.60686657,\n",
       "       -0.46802432, -0.18196047,  0.75301025, -0.87643527,  0.26118967,\n",
       "        0.93936312, -0.33132454, -0.24025516, -0.16676133,  0.1489413 ,\n",
       "        0.2786497 ,  0.97754964, -0.14761698,  0.54677799, -0.30285406,\n",
       "       -0.76266368, -0.17895041,  0.80735551,  0.75631503, -0.97433969,\n",
       "       -0.01096782,  0.34755279, -0.14927788, -0.1034042 , -0.42850849,\n",
       "       -0.70801681,  0.98480661, -0.16782724,  0.61544496,  0.37172286,\n",
       "       -0.32442833,  0.04188462, -0.8072925 , -0.56178215,  0.16021939,\n",
       "       -0.57200567, -0.40958231, -0.07153585, -0.06001203,  0.6386863 ,\n",
       "       -0.83159898,  0.93777422, -0.18021165, -0.41651262,  0.44102138,\n",
       "        0.40301532, -0.53451016, -0.53037362, -0.69229999, -0.37448285,\n",
       "        0.67815708,  0.02052462, -0.15127651, -0.93054762, -0.71384936,\n",
       "        0.19071489,  0.0507129 , -0.93620912, -0.65893596, -0.60831011,\n",
       "       -0.96053075, -0.00582197,  0.6374406 , -0.63653598, -0.24949499,\n",
       "        0.46548072, -0.36175182, -0.18914911,  0.9142693 , -0.81318257,\n",
       "       -0.91848893, -0.30656494,  0.10382115, -0.94572856,  0.97498117,\n",
       "        0.51720266,  0.59184833, -0.1748028 , -0.20694893,  0.32445196,\n",
       "       -0.45372048,  0.74672102,  0.67936589,  0.37288367, -0.91658049,\n",
       "       -0.55450655, -0.92185383,  0.30075961,  0.6025407 , -0.96442553,\n",
       "       -0.68596199,  0.13621385,  0.65298152, -0.81319517, -0.60927832,\n",
       "        0.41941191,  0.8473932 , -0.4424019 ,  0.53623895,  0.33487076,\n",
       "       -0.71005542, -0.17643524,  0.7474922 ,  0.8579823 , -0.00985342,\n",
       "        0.66230535, -0.48291742,  0.33421799, -0.19150384, -0.07492469,\n",
       "       -0.86631952,  0.9593059 , -0.77987928, -0.40090252, -0.91044278,\n",
       "       -0.5553862 , -0.85555193,  0.46078194, -0.245334  ,  0.14552031,\n",
       "       -0.76029604, -0.37825585,  0.44777551,  0.94891413, -0.05151337,\n",
       "        0.27316297,  0.30063372, -0.81295731, -0.34082163,  0.24807239,\n",
       "       -0.35736648,  0.54034014,  0.45948112,  0.83995649, -0.68438834,\n",
       "        0.46457084,  0.75706364, -0.04558744, -0.3930387 ,  0.08680237,\n",
       "       -0.36789198,  0.9574048 , -0.1057501 ,  0.82179455,  0.40187448,\n",
       "        0.19777775, -0.6582503 ,  0.95242469, -0.94029013,  0.16134127,\n",
       "        0.5109119 ,  0.02103136,  0.8371027 , -0.62386423, -0.14537708,\n",
       "       -0.36213645,  0.61773245,  0.35697657,  0.06192178,  0.18426496,\n",
       "        0.5489196 ,  0.01378834, -0.20370117,  0.55159082,  0.30289102,\n",
       "       -0.77730299, -0.16600903,  0.56875933, -0.1221262 ,  0.51123338,\n",
       "        0.97906419, -0.73012961, -0.19640532, -0.98064623, -0.7349609 ,\n",
       "        0.19360077, -0.64019384,  0.42328487, -0.32676273, -0.46001921,\n",
       "       -0.66081181,  0.14950879, -0.79952297,  0.97357551, -0.27927728,\n",
       "       -0.2096404 ,  0.27773366, -0.90791344, -0.12761701,  0.04653196,\n",
       "        0.04402653, -0.28289594, -0.1915881 ,  0.86067685,  0.68377538,\n",
       "        0.59802177,  0.94394559, -0.92682934, -0.94708406, -0.30668419,\n",
       "       -0.01207187, -0.00273172,  0.36484101,  0.67873466, -0.18447422,\n",
       "       -0.55724536, -0.11378226,  0.97073198, -0.24739249,  0.16887808,\n",
       "        0.99578253,  0.93130598, -0.32765508, -0.97004403,  0.59178986,\n",
       "       -0.4090487 ,  0.20350104,  0.71414604,  0.06067503, -0.06541598,\n",
       "       -0.0096367 ,  0.5475052 , -0.5894853 , -0.44200425,  0.1035578 ,\n",
       "       -0.09913193,  0.84544973, -0.78151021, -0.87512946, -0.44015408,\n",
       "       -0.31038787,  0.84992453, -0.55451203, -0.6163523 , -0.92564975,\n",
       "       -0.24769082, -0.99724374,  0.16240416, -0.73513567,  0.66503465,\n",
       "        0.82114516, -0.45430628,  0.1170813 , -0.06303645, -0.34711924,\n",
       "        0.87533794, -0.1574036 , -0.1447612 , -0.92696883,  0.08365554,\n",
       "       -0.10163013,  0.11797902,  0.82903415,  0.39802638, -0.77092378,\n",
       "       -0.43676474,  0.75676223, -0.60004425,  0.85918618, -0.27469371,\n",
       "        0.67224546,  0.55623382, -0.62343261,  0.71191971, -0.23628798,\n",
       "       -0.25677809,  0.85847909,  0.06418434,  0.17215388, -0.05523675,\n",
       "       -0.26652992, -0.03373645, -0.07722295,  0.55300961,  0.10886002,\n",
       "       -0.46456576, -0.25336199,  0.22554632, -0.17383845,  0.75360516,\n",
       "       -0.49584148, -0.11123853, -0.66100889, -0.173456  ,  0.30408255,\n",
       "       -0.59360982, -0.00655533,  0.66857876, -0.75784123, -0.23628882,\n",
       "       -0.39686999,  0.48422942, -0.10898993, -0.76117008,  0.37493517,\n",
       "        0.66925668, -0.79167677, -0.39849203, -0.43822135,  0.7418559 ,\n",
       "       -0.79262422,  0.56901478,  0.10773601,  0.74520121,  0.94635209,\n",
       "        0.10794308, -0.50876842, -0.95346673, -0.03428185,  0.97268457,\n",
       "       -0.83361523,  0.96300656, -0.20387329,  0.89364644, -0.51532032,\n",
       "        0.70646984, -0.34759121, -0.78738164, -0.78127252, -0.35084781,\n",
       "        0.17484432, -0.93393038,  0.90948626, -0.01142218, -0.58055824,\n",
       "        0.53664539,  0.41910408, -0.20005626, -0.64829714, -0.06589721,\n",
       "       -0.18917671,  0.26058128,  0.26442782, -0.51708071, -0.76693192,\n",
       "        0.03833505, -0.76148661,  0.3149418 ,  0.91396469,  0.58955934,\n",
       "       -0.25094367, -0.82569463,  0.09778353,  0.67242049,  0.08955374,\n",
       "       -0.84694945, -0.07263797, -0.66686618, -0.0064556 ,  0.98053652,\n",
       "       -0.00404464,  0.14186868,  0.37493546,  0.17090404, -0.63395543,\n",
       "       -0.9655136 , -0.0064761 , -0.83365231,  0.8413893 , -0.09916   ,\n",
       "       -0.86457703, -0.9761111 , -0.57896905, -0.10081168, -0.80358695,\n",
       "        0.06741023,  0.80262276,  0.8373824 , -0.35906489,  0.5598416 ,\n",
       "        0.66186854, -0.38333353,  0.28271262, -0.09905235, -0.95831545,\n",
       "        0.56982228,  0.19058145,  0.04429177, -0.5037229 , -0.76616215,\n",
       "       -0.06275788, -0.2502392 ,  0.82399809,  0.10888843,  0.80330154,\n",
       "       -0.55011555,  0.19156242,  0.87570085, -0.44139126,  0.70234821,\n",
       "       -0.43305693,  0.67044606, -0.49971865, -0.48718157,  0.73091574,\n",
       "        0.05062049,  0.22231338, -0.59951324,  0.81322802,  0.48763944,\n",
       "       -0.51185787,  0.04663605,  0.80842127,  0.16871579, -0.53925622,\n",
       "        0.32706914, -0.15032717,  0.9958685 , -0.5322874 , -0.45043366,\n",
       "        0.28308868,  0.34639408,  0.11841785,  0.06689737,  0.87590108,\n",
       "        0.4932217 ,  0.13603316, -0.72616398, -0.03815745, -0.73606057,\n",
       "       -0.3368333 ,  0.49782082,  0.46660695, -0.39869535,  0.34228638,\n",
       "       -0.15323674, -0.81469487, -0.90681782,  0.22484885, -0.55065699,\n",
       "       -0.52499895,  0.16933131, -0.94297508, -0.72186781, -0.16584957])"
      ]
     },
     "execution_count": 47,
     "metadata": {},
     "output_type": "execute_result"
    }
   ],
   "source": [
    "x"
   ]
  },
  {
   "cell_type": "code",
   "execution_count": 50,
   "metadata": {},
   "outputs": [
    {
     "ename": "TypeError",
     "evalue": "quiver() got multiple values for argument 'size'",
     "output_type": "error",
     "traceback": [
      "\u001b[0;31m---------------------------------------------------------------------------\u001b[0m",
      "\u001b[0;31mTypeError\u001b[0m                                 Traceback (most recent call last)",
      "\u001b[0;32m<ipython-input-50-7ee4e7780912>\u001b[0m in \u001b[0;36m<module>\u001b[0;34m\u001b[0m\n\u001b[1;32m      4\u001b[0m \u001b[0mselected\u001b[0m \u001b[0;34m=\u001b[0m \u001b[0mnp\u001b[0m\u001b[0;34m.\u001b[0m\u001b[0mrandom\u001b[0m\u001b[0;34m.\u001b[0m\u001b[0mrandint\u001b[0m\u001b[0;34m(\u001b[0m\u001b[0;36m0\u001b[0m\u001b[0;34m,\u001b[0m \u001b[0;36m1000\u001b[0m\u001b[0;34m,\u001b[0m \u001b[0;36m100\u001b[0m\u001b[0;34m)\u001b[0m\u001b[0;34m\u001b[0m\u001b[0;34m\u001b[0m\u001b[0m\n\u001b[1;32m      5\u001b[0m \u001b[0mipv\u001b[0m\u001b[0;34m.\u001b[0m\u001b[0mfigure\u001b[0m\u001b[0;34m(\u001b[0m\u001b[0;34m)\u001b[0m\u001b[0;34m\u001b[0m\u001b[0;34m\u001b[0m\u001b[0m\n\u001b[0;32m----> 6\u001b[0;31m \u001b[0mquiver\u001b[0m \u001b[0;34m=\u001b[0m \u001b[0mipv\u001b[0m\u001b[0;34m.\u001b[0m\u001b[0mquiver\u001b[0m\u001b[0;34m(\u001b[0m\u001b[0mx\u001b[0m\u001b[0;34m,\u001b[0m \u001b[0my\u001b[0m\u001b[0;34m,\u001b[0m \u001b[0mz\u001b[0m\u001b[0;34m,\u001b[0m \u001b[0mu\u001b[0m\u001b[0;34m,\u001b[0m \u001b[0mv\u001b[0m\u001b[0;34m,\u001b[0m \u001b[0mw\u001b[0m\u001b[0;34m,\u001b[0m \u001b[0mi\u001b[0m\u001b[0;34m,\u001b[0m \u001b[0mj\u001b[0m\u001b[0;34m,\u001b[0m \u001b[0mk\u001b[0m\u001b[0;34m,\u001b[0m \u001b[0msize\u001b[0m\u001b[0;34m=\u001b[0m\u001b[0;36m5\u001b[0m\u001b[0;34m,\u001b[0m \u001b[0msize_selected\u001b[0m\u001b[0;34m=\u001b[0m\u001b[0;36m8\u001b[0m\u001b[0;34m,\u001b[0m \u001b[0mselected\u001b[0m\u001b[0;34m=\u001b[0m\u001b[0mselected\u001b[0m\u001b[0;34m)\u001b[0m\u001b[0;34m\u001b[0m\u001b[0;34m\u001b[0m\u001b[0m\n\u001b[0m\u001b[1;32m      7\u001b[0m \u001b[0;34m\u001b[0m\u001b[0m\n\u001b[1;32m      8\u001b[0m \u001b[0;32mfrom\u001b[0m \u001b[0mipywidgets\u001b[0m \u001b[0;32mimport\u001b[0m \u001b[0mFloatSlider\u001b[0m\u001b[0;34m,\u001b[0m \u001b[0mColorPicker\u001b[0m\u001b[0;34m,\u001b[0m \u001b[0mVBox\u001b[0m\u001b[0;34m,\u001b[0m \u001b[0mjslink\u001b[0m\u001b[0;34m\u001b[0m\u001b[0;34m\u001b[0m\u001b[0m\n",
      "\u001b[0;31mTypeError\u001b[0m: quiver() got multiple values for argument 'size'"
     ]
    }
   ],
   "source": [
    "import ipyvolume as ipv\n",
    "import numpy as np\n",
    "x, y, z, u, v, w, i, j, k = np.random.random((9, 1000))*2-1\n",
    "selected = np.random.randint(0, 1000, 100)\n",
    "ipv.figure()\n",
    "quiver = ipv.quiver(x, y, z, u, v, w, i, j, k, size=5, size_selected=8, selected=selected)\n",
    "\n",
    "from ipywidgets import FloatSlider, ColorPicker, VBox, jslink\n",
    "size = FloatSlider(min=0, max=30, step=0.1)\n",
    "size_selected = FloatSlider(min=0, max=30, step=0.1)\n",
    "color = ColorPicker()\n",
    "color_selected = ColorPicker()\n",
    "jslink((quiver, 'size'), (size, 'value'))\n",
    "jslink((quiver, 'size_selected'), (size_selected, 'value'))\n",
    "jslink((quiver, 'color'), (color, 'value'))\n",
    "jslink((quiver, 'color_selected'), (color_selected, 'value'))\n",
    "VBox([ipv.gcc(), size, size_selected, color, color_selected])"
   ]
  },
  {
   "cell_type": "code",
   "execution_count": null,
   "metadata": {},
   "outputs": [],
   "source": []
  }
 ],
 "metadata": {
  "kernelspec": {
   "display_name": "Python 3",
   "language": "python",
   "name": "python3"
  },
  "language_info": {
   "codemirror_mode": {
    "name": "ipython",
    "version": 3
   },
   "file_extension": ".py",
   "mimetype": "text/x-python",
   "name": "python",
   "nbconvert_exporter": "python",
   "pygments_lexer": "ipython3",
   "version": "3.8.2"
  }
 },
 "nbformat": 4,
 "nbformat_minor": 4
}
