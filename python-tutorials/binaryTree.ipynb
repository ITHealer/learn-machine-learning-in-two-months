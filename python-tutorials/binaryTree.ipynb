{
 "cells": [
  {
   "cell_type": "markdown",
   "metadata": {},
   "source": [
    "Cây có rất nhiều ứng dụng\n",
    "    - HTML để hiện thị trang web chúng ta đang dùng cũng là một cây được gọi là cây HTML\n",
    "    - Quản lý vị trí trong công ty cũng là quản lý theo cây"
   ]
  },
  {
   "cell_type": "code",
   "execution_count": null,
   "metadata": {},
   "outputs": [],
   "source": [
    "Cây khác duy nhất đồ thị (Graph) đó là cây không có chu trình(Cir)"
   ]
  },
  {
   "cell_type": "markdown",
   "metadata": {},
   "source": [
    "### Cây nhị phân ( Binary Tree )"
   ]
  },
  {
   "cell_type": "markdown",
   "metadata": {},
   "source": [
    "Cây nhị phân có nhiều nhất 2 nhánh con"
   ]
  },
  {
   "cell_type": "markdown",
   "metadata": {},
   "source": [
    "#### 1. Khởi tao cây từ một list"
   ]
  },
  {
   "cell_type": "markdown",
   "metadata": {},
   "source": [
    "![](./images/14_base.png)"
   ]
  },
  {
   "cell_type": "code",
   "execution_count": 325,
   "metadata": {},
   "outputs": [],
   "source": [
    "data = [0, 1, 2, 3, 4, None, 5, None, None, 6, 7, None, None, 8, None]"
   ]
  },
  {
   "cell_type": "code",
   "execution_count": 326,
   "metadata": {},
   "outputs": [],
   "source": [
    "class Node:\n",
    "    def __init__(self, val):\n",
    "        self.left = None\n",
    "        self.right = None\n",
    "        self.val = val\n",
    "\n",
    "    def __repr__(self):\n",
    "        return str(self.val)\n",
    "\n",
    "def buildTree(data):\n",
    "    if len(data) == 0:\n",
    "        return Node()\n",
    "    i = 0\n",
    "    n = len(data)\n",
    "    root = Node(data[0])    \n",
    "    def insertNode(root, i, n):\n",
    "        left_idx = 2 * i + 1\n",
    "        right_idx = 2 * i + 2\n",
    "\n",
    "        if left_idx < n:\n",
    "            left_val = data[left_idx]\n",
    "            left_node = Node(left_val)\n",
    "            root.left = insertNode(left_node, left_idx, n)\n",
    "\n",
    "\n",
    "        if right_idx < n:\n",
    "            right_val = data[right_idx]\n",
    "            right_node = Node(right_val)\n",
    "            root.right = insertNode(right_node, right_idx, n)\n",
    "\n",
    "    \n",
    "        return root\n",
    "    \n",
    "    tree = insertNode(root, 0, n)\n",
    "    return tree\n",
    "    "
   ]
  },
  {
   "cell_type": "code",
   "execution_count": 327,
   "metadata": {
    "scrolled": true
   },
   "outputs": [],
   "source": [
    "tree = buildTree(data)"
   ]
  },
  {
   "cell_type": "code",
   "execution_count": 328,
   "metadata": {
    "scrolled": true
   },
   "outputs": [
    {
     "data": {
      "text/plain": [
       "2"
      ]
     },
     "execution_count": 328,
     "metadata": {},
     "output_type": "execute_result"
    }
   ],
   "source": [
    "tree.right"
   ]
  },
  {
   "cell_type": "markdown",
   "metadata": {},
   "source": [
    "#### 2. Duyệt tiền thứ tự (Preorder Traversal)"
   ]
  },
  {
   "cell_type": "markdown",
   "metadata": {},
   "source": [
    "![](./images/14.png)"
   ]
  },
  {
   "cell_type": "code",
   "execution_count": 329,
   "metadata": {},
   "outputs": [],
   "source": [
    "def preorderTraversal(tree):\n",
    "    if tree == None:\n",
    "        return\n",
    "    if tree.val != None:\n",
    "        print(tree.val)\n",
    "    preorderTraversal(tree.left)\n",
    "    preorderTraversal(tree.right)    "
   ]
  },
  {
   "cell_type": "code",
   "execution_count": 330,
   "metadata": {},
   "outputs": [
    {
     "name": "stdout",
     "output_type": "stream",
     "text": [
      "0\n",
      "1\n",
      "3\n",
      "4\n",
      "6\n",
      "7\n",
      "2\n",
      "5\n",
      "8\n"
     ]
    }
   ],
   "source": [
    "preorderTraversal(tree)"
   ]
  },
  {
   "cell_type": "markdown",
   "metadata": {},
   "source": [
    "#### 3. Duyệt trung thứ tự (Inorder Traversal) "
   ]
  },
  {
   "cell_type": "markdown",
   "metadata": {},
   "source": [
    "![](./images/15.png)"
   ]
  },
  {
   "cell_type": "code",
   "execution_count": 321,
   "metadata": {},
   "outputs": [],
   "source": [
    "def inorderTraversal(tree):\n",
    "    if tree == None:\n",
    "        return\n",
    "    inorderTraversal(tree.left)\n",
    "    if tree.val != None:\n",
    "        print(tree.val)\n",
    "    inorderTraversal(tree.right)"
   ]
  },
  {
   "cell_type": "code",
   "execution_count": 322,
   "metadata": {},
   "outputs": [
    {
     "name": "stdout",
     "output_type": "stream",
     "text": [
      "3\n",
      "1\n",
      "6\n",
      "4\n",
      "7\n",
      "0\n",
      "2\n",
      "8\n",
      "5\n"
     ]
    }
   ],
   "source": [
    "inorderTraversal(tree)"
   ]
  },
  {
   "cell_type": "markdown",
   "metadata": {},
   "source": [
    "#### 4. Duyệt hậu thứ tự (Inorder Traversal) "
   ]
  },
  {
   "cell_type": "markdown",
   "metadata": {},
   "source": [
    "![](./images/16.png)"
   ]
  },
  {
   "cell_type": "code",
   "execution_count": 333,
   "metadata": {},
   "outputs": [],
   "source": [
    "def postorderTraversal(tree):\n",
    "    if tree == None:\n",
    "        return\n",
    "    postorderTraversal(tree.left)\n",
    "    postorderTraversal(tree.right)\n",
    "    if tree.val != None:\n",
    "        print(tree.val)"
   ]
  },
  {
   "cell_type": "code",
   "execution_count": 334,
   "metadata": {},
   "outputs": [
    {
     "name": "stdout",
     "output_type": "stream",
     "text": [
      "3\n",
      "6\n",
      "7\n",
      "4\n",
      "1\n",
      "8\n",
      "5\n",
      "2\n",
      "0\n"
     ]
    }
   ],
   "source": [
    "postorderTraversal(tree)"
   ]
  }
 ],
 "metadata": {
  "kernelspec": {
   "display_name": "Python 3",
   "language": "python",
   "name": "python3"
  },
  "language_info": {
   "codemirror_mode": {
    "name": "ipython",
    "version": 3
   },
   "file_extension": ".py",
   "mimetype": "text/x-python",
   "name": "python",
   "nbconvert_exporter": "python",
   "pygments_lexer": "ipython3",
   "version": "3.8.2"
  }
 },
 "nbformat": 4,
 "nbformat_minor": 2
}
