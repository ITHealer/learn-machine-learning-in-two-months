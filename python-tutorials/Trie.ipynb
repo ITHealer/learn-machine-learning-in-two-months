{
 "cells": [
  {
   "cell_type": "markdown",
   "metadata": {},
   "source": [
    "### Tạo cây và thêm từ"
   ]
  },
  {
   "cell_type": "code",
   "execution_count": 1,
   "metadata": {},
   "outputs": [],
   "source": [
    "class Node:\n",
    "    def __init__(self):\n",
    "        self.next = {}\n",
    "        self.cnt = 0"
   ]
  },
  {
   "cell_type": "code",
   "execution_count": 2,
   "metadata": {},
   "outputs": [],
   "source": [
    "def addString(root, st):\n",
    "    cur = root\n",
    "    for letter in st:\n",
    "        if letter not in cur.next:\n",
    "            cur.next[letter] = Node()\n",
    "        cur = cur.next[letter]\n",
    "    cur.cnt += 1"
   ]
  },
  {
   "cell_type": "code",
   "execution_count": 3,
   "metadata": {},
   "outputs": [],
   "source": [
    "root = Node()"
   ]
  },
  {
   "cell_type": "code",
   "execution_count": 4,
   "metadata": {},
   "outputs": [],
   "source": [
    "addString(root, 'ProtonX')"
   ]
  },
  {
   "cell_type": "code",
   "execution_count": 5,
   "metadata": {},
   "outputs": [],
   "source": [
    "addString(root, 'Python2')"
   ]
  },
  {
   "cell_type": "code",
   "execution_count": 6,
   "metadata": {},
   "outputs": [],
   "source": [
    "addString(root, 'Python3')"
   ]
  },
  {
   "cell_type": "code",
   "execution_count": 7,
   "metadata": {},
   "outputs": [],
   "source": [
    "addString(root, 'ProtonX4')"
   ]
  },
  {
   "cell_type": "markdown",
   "metadata": {},
   "source": [
    "### In tất cả các chuỗi trong Trie"
   ]
  },
  {
   "cell_type": "code",
   "execution_count": 8,
   "metadata": {},
   "outputs": [],
   "source": [
    "def printTrie(root, st):\n",
    "    if root is None:\n",
    "        return\n",
    "    if root.cnt > 0:\n",
    "        print(st)\n",
    "    for letter in root.next:\n",
    "        printTrie(root.next[letter], st + letter)"
   ]
  },
  {
   "cell_type": "code",
   "execution_count": 9,
   "metadata": {},
   "outputs": [
    {
     "name": "stdout",
     "output_type": "stream",
     "text": [
      "ProtonX\n",
      "ProtonX4\n",
      "Python2\n",
      "Python3\n"
     ]
    }
   ],
   "source": [
    "printTrie(root, \"\")"
   ]
  },
  {
   "cell_type": "markdown",
   "metadata": {},
   "source": [
    "### Tìm Chuỗi "
   ]
  },
  {
   "cell_type": "code",
   "execution_count": 10,
   "metadata": {},
   "outputs": [],
   "source": [
    "def search(root, st):\n",
    "    cur = root\n",
    "    for letter in st:\n",
    "        if letter not in cur.next:\n",
    "            return -1\n",
    "        cur = cur.next[letter]\n",
    "    if cur.cnt >= 1:\n",
    "        return cur.cnt\n",
    "    else:\n",
    "        return -1"
   ]
  },
  {
   "cell_type": "code",
   "execution_count": 11,
   "metadata": {},
   "outputs": [
    {
     "data": {
      "text/plain": [
       "-1"
      ]
     },
     "execution_count": 11,
     "metadata": {},
     "output_type": "execute_result"
    }
   ],
   "source": [
    "search(root, \"Python\")"
   ]
  },
  {
   "cell_type": "code",
   "execution_count": 12,
   "metadata": {},
   "outputs": [
    {
     "data": {
      "text/plain": [
       "1"
      ]
     },
     "execution_count": 12,
     "metadata": {},
     "output_type": "execute_result"
    }
   ],
   "source": [
    "search(root, \"Python2\")"
   ]
  },
  {
   "cell_type": "code",
   "execution_count": 13,
   "metadata": {},
   "outputs": [
    {
     "data": {
      "text/plain": [
       "1"
      ]
     },
     "execution_count": 13,
     "metadata": {},
     "output_type": "execute_result"
    }
   ],
   "source": [
    "search(root, \"Python3\")"
   ]
  },
  {
   "cell_type": "code",
   "execution_count": 14,
   "metadata": {},
   "outputs": [
    {
     "data": {
      "text/plain": [
       "-1"
      ]
     },
     "execution_count": 14,
     "metadata": {},
     "output_type": "execute_result"
    }
   ],
   "source": [
    "search(root, \"Python4\")"
   ]
  },
  {
   "cell_type": "code",
   "execution_count": 15,
   "metadata": {},
   "outputs": [
    {
     "data": {
      "text/plain": [
       "-1"
      ]
     },
     "execution_count": 15,
     "metadata": {},
     "output_type": "execute_result"
    }
   ],
   "source": [
    "search(root, \"Py\")"
   ]
  },
  {
   "cell_type": "markdown",
   "metadata": {},
   "source": [
    "### Xóa chuỗi"
   ]
  },
  {
   "cell_type": "code",
   "execution_count": 16,
   "metadata": {},
   "outputs": [],
   "source": [
    "# Kiểm tra root có phải là lá hay không\n",
    "def isEmpty(root):\n",
    "    return len(root.next) == 0"
   ]
  },
  {
   "cell_type": "code",
   "execution_count": 17,
   "metadata": {},
   "outputs": [],
   "source": [
    "def removeString(root, st, depth):\n",
    "    if not root:\n",
    "        return None\n",
    "    \n",
    "    # Vị trí đang xét là vị trí cuối cùng của chuối\n",
    "    if depth == len(st):\n",
    "        # Nếu là tiền tố hoặc có nhiều chuỗi thì chỉ trừ đi 1\n",
    "        if root.cnt >= 1:\n",
    "            root.cnt = 0\n",
    "            \n",
    "        # Không phải tiền tố của chuỗi khác thì xóa luôn\n",
    "        if(isEmpty(root)):\n",
    "            del root\n",
    "            root = None\n",
    "            \n",
    "        return root\n",
    "            \n",
    "    \n",
    "    letter = st[depth]\n",
    "    \n",
    "    root.next[letter] = removeString(root.next[letter], st, depth + 1)\n",
    "    \n",
    "    # Trong trường hợp chuỗi này chứa một chuỗi khác thì chỉ xóa đến đoạn mà chuỗi này\n",
    "    # không bao gồm chuỗi tiền tố thôi\n",
    "    if isEmpty(root) and root.cnt == 0:\n",
    "        del root\n",
    "        root = None\n",
    "    return root"
   ]
  },
  {
   "cell_type": "code",
   "execution_count": 18,
   "metadata": {},
   "outputs": [],
   "source": [
    "root = Node()\n",
    "addString(root, 'Pro')\n",
    "addString(root, 'ProtonX')\n",
    "addString(root, 'ProtonX')\n",
    "addString(root, 'ProtonX')\n",
    "addString(root, 'ProtonX')\n",
    "addString(root, 'Python2')\n",
    "addString(root, 'Python3')\n",
    "addString(root, 'ProtonX4')"
   ]
  },
  {
   "cell_type": "code",
   "execution_count": 19,
   "metadata": {},
   "outputs": [
    {
     "name": "stdout",
     "output_type": "stream",
     "text": [
      "Pro\n",
      "ProtonX\n",
      "ProtonX4\n",
      "Python2\n",
      "Python3\n"
     ]
    }
   ],
   "source": [
    "printTrie(root, \"\")"
   ]
  },
  {
   "cell_type": "code",
   "execution_count": 20,
   "metadata": {},
   "outputs": [
    {
     "data": {
      "text/plain": [
       "<__main__.Node at 0x5a9bc58>"
      ]
     },
     "execution_count": 20,
     "metadata": {},
     "output_type": "execute_result"
    }
   ],
   "source": [
    "removeString(root, \"ProtonX\", 0)"
   ]
  },
  {
   "cell_type": "code",
   "execution_count": 23,
   "metadata": {},
   "outputs": [
    {
     "name": "stdout",
     "output_type": "stream",
     "text": [
      "ProtonX4\n",
      "Python2\n",
      "Python3\n"
     ]
    }
   ],
   "source": [
    "printTrie(root, \"\")"
   ]
  },
  {
   "cell_type": "code",
   "execution_count": 24,
   "metadata": {},
   "outputs": [
    {
     "data": {
      "text/plain": [
       "<__main__.Node at 0x5a9bc58>"
      ]
     },
     "execution_count": 24,
     "metadata": {},
     "output_type": "execute_result"
    }
   ],
   "source": [
    "removeString(root, \"Pro\", 0)"
   ]
  },
  {
   "cell_type": "code",
   "execution_count": 25,
   "metadata": {},
   "outputs": [
    {
     "name": "stdout",
     "output_type": "stream",
     "text": [
      "ProtonX4\n",
      "Python2\n",
      "Python3\n"
     ]
    }
   ],
   "source": [
    "printTrie(root, \"\")"
   ]
  },
  {
   "cell_type": "code",
   "execution_count": null,
   "metadata": {},
   "outputs": [],
   "source": []
  }
 ],
 "metadata": {
  "kernelspec": {
   "display_name": "Python 3",
   "language": "python",
   "name": "python3"
  },
  "language_info": {
   "codemirror_mode": {
    "name": "ipython",
    "version": 3
   },
   "file_extension": ".py",
   "mimetype": "text/x-python",
   "name": "python",
   "nbconvert_exporter": "python",
   "pygments_lexer": "ipython3",
   "version": "3.8.2"
  }
 },
 "nbformat": 4,
 "nbformat_minor": 4
}
