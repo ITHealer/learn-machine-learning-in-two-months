{
 "cells": [
  {
   "cell_type": "markdown",
   "metadata": {},
   "source": [
    "## 1. Bài toán liên quan tới đảo"
   ]
  },
  {
   "cell_type": "markdown",
   "metadata": {},
   "source": [
    "![](../images/dfs/island.png)"
   ]
  },
  {
   "cell_type": "markdown",
   "metadata": {},
   "source": [
    "### 1.1 Đếm số lượng đảo"
   ]
  },
  {
   "cell_type": "markdown",
   "metadata": {},
   "source": [
    "[Leetcode 200](https://leetcode.com/problems/number-of-islands/)"
   ]
  },
  {
   "cell_type": "markdown",
   "metadata": {},
   "source": [
    "Đếm số lượng đảo trong một ma trận"
   ]
  },
  {
   "cell_type": "markdown",
   "metadata": {},
   "source": [
    "Bài giải"
   ]
  },
  {
   "cell_type": "code",
   "execution_count": 4,
   "metadata": {},
   "outputs": [],
   "source": [
    "def isOk(x, y, m, n):\n",
    "    return x >= 0 and x < m and y >= 0 and y < n  \n",
    "\n",
    "def dfs(start, grid, visited, m, n):\n",
    "    x, y = start\n",
    "    xRows = [-1, 1, 0, 0]\n",
    "    xCols = [0, 0, -1, 1]\n",
    "    cnt = 0\n",
    "    for i in range(4):\n",
    "        new_x = x + xRows[i]\n",
    "        new_y = y + xCols[i]\n",
    "        if isOk(new_x, new_y, m, n) and not visited[new_x][new_y] and grid[new_x][new_y] == '1':\n",
    "            visited[new_x][new_y] = True\n",
    "            dfs((new_x, new_y), grid, visited, m, n)\n",
    "    \n",
    "class Solution:\n",
    "    def numIslands(self, grid) -> int:\n",
    "        m = len(grid)\n",
    "        if m == 0:\n",
    "            return 0\n",
    "        \n",
    "        n = len(grid[0])\n",
    "        \n",
    "        visited = [[False for _ in range(n)] for _ in range(m)]\n",
    "        cnt = 0\n",
    "        for i in range(m):\n",
    "            for j in range(n):\n",
    "                if not visited[i][j] and grid[i][j] == '1':\n",
    "                    dfs((i, j), grid, visited, m, n)\n",
    "                    cnt += 1\n",
    "                    \n",
    "        return cnt"
   ]
  },
  {
   "cell_type": "code",
   "execution_count": 5,
   "metadata": {},
   "outputs": [],
   "source": [
    "grid = [[\"1\",\"1\",\"1\",\"1\",\"0\"],[\"1\",\"1\",\"0\",\"1\",\"0\"],[\"1\",\"1\",\"0\",\"0\",\"0\"],[\"0\",\"0\",\"0\",\"0\",\"0\"]]"
   ]
  },
  {
   "cell_type": "code",
   "execution_count": 6,
   "metadata": {},
   "outputs": [
    {
     "data": {
      "text/plain": [
       "[['1', '1', '1', '1', '0'],\n",
       " ['1', '1', '0', '1', '0'],\n",
       " ['1', '1', '0', '0', '0'],\n",
       " ['0', '0', '0', '0', '0']]"
      ]
     },
     "execution_count": 6,
     "metadata": {},
     "output_type": "execute_result"
    }
   ],
   "source": [
    "grid"
   ]
  },
  {
   "cell_type": "code",
   "execution_count": 8,
   "metadata": {},
   "outputs": [
    {
     "data": {
      "text/plain": [
       "1"
      ]
     },
     "execution_count": 8,
     "metadata": {},
     "output_type": "execute_result"
    }
   ],
   "source": [
    "sol = Solution() \n",
    "sol.numIslands(grid)"
   ]
  },
  {
   "cell_type": "markdown",
   "metadata": {},
   "source": [
    "### 2.1 Tìm đảo rộng nhất"
   ]
  },
  {
   "cell_type": "markdown",
   "metadata": {},
   "source": [
    "[Leetcode 695](https://leetcode.com/problems/max-area-of-island/)"
   ]
  },
  {
   "cell_type": "markdown",
   "metadata": {},
   "source": [
    "Tìm diện tích lớn nhất của một đảo trong ma trận"
   ]
  },
  {
   "cell_type": "code",
   "execution_count": 11,
   "metadata": {},
   "outputs": [],
   "source": [
    "def isOk(x, y, m, n):\n",
    "    return x >= 0 and x < m and y >= 0 and y < n  \n",
    "\n",
    "def dfs(start, grid, visited, total, m, n):\n",
    "    x, y = start\n",
    "    xRows = [-1, 1, 0, 0]\n",
    "    xCols = [0, 0, -1, 1]\n",
    "    cnt = 0\n",
    "    for i in range(4):\n",
    "        new_x = x + xRows[i]\n",
    "        new_y = y + xCols[i]\n",
    "        if isOk(new_x, new_y, m, n) and not visited[new_x][new_y] and grid[new_x][new_y] == 1:\n",
    "            visited[new_x][new_y] = True\n",
    "            total[\"value\"] += 1\n",
    "            dfs((new_x, new_y), grid, visited, total, m, n)\n",
    "            \n",
    "\n",
    "\n",
    "class Solution2:\n",
    "    def maxAreaOfIsland(self, grid) -> int:\n",
    "        self.max = 0\n",
    "        m = len(grid)\n",
    "        n = len(grid[0])\n",
    "        \n",
    "        visited = [[False for _ in range(n)] for _ in range(m)]\n",
    "        \n",
    "        for i in range(m):\n",
    "            for j in range(n):\n",
    "                if not visited[i][j] and grid[i][j] == 1:\n",
    "                    aDict = {\"value\":1}\n",
    "                    visited[i][j] = True\n",
    "                    dfs((i, j), grid, visited, aDict, m, n)\n",
    "                    # print(aDict)\n",
    "                    if aDict[\"value\"] > self.max:\n",
    "                        self.max = aDict[\"value\"]\n",
    "                        \n",
    "        return self.max"
   ]
  },
  {
   "cell_type": "code",
   "execution_count": 10,
   "metadata": {},
   "outputs": [],
   "source": [
    "grid = [[0,0,1,0,0,0,0,1,0,0,0,0,0],\n",
    " [0,0,0,0,0,0,0,1,1,1,0,0,0],\n",
    " [0,1,1,0,1,0,0,0,0,0,0,0,0],\n",
    " [0,1,0,0,1,1,0,0,1,0,1,0,0],\n",
    " [0,1,0,0,1,1,0,0,1,1,1,0,0],\n",
    " [0,0,0,0,0,0,0,0,0,0,1,0,0],\n",
    " [0,0,0,0,0,0,0,1,1,1,0,0,0],\n",
    " [0,0,0,0,0,0,0,1,1,0,0,0,0]]"
   ]
  },
  {
   "cell_type": "code",
   "execution_count": 13,
   "metadata": {},
   "outputs": [
    {
     "data": {
      "text/plain": [
       "6"
      ]
     },
     "execution_count": 13,
     "metadata": {},
     "output_type": "execute_result"
    }
   ],
   "source": [
    "sol2 = Solution2() \n",
    "sol2.maxAreaOfIsland(grid)"
   ]
  }
 ],
 "metadata": {
  "kernelspec": {
   "display_name": "Python 3",
   "language": "python",
   "name": "python3"
  },
  "language_info": {
   "codemirror_mode": {
    "name": "ipython",
    "version": 3
   },
   "file_extension": ".py",
   "mimetype": "text/x-python",
   "name": "python",
   "nbconvert_exporter": "python",
   "pygments_lexer": "ipython3",
   "version": "3.8.2"
  }
 },
 "nbformat": 4,
 "nbformat_minor": 4
}
